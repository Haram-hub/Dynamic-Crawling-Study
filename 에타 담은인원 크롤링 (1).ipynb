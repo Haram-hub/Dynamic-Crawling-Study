{
 "cells": [
  {
   "cell_type": "markdown",
   "metadata": {},
   "source": [
    "# 에타 담은인원 크롤링"
   ]
  },
  {
   "cell_type": "markdown",
   "metadata": {},
   "source": [
    "by 5기 김하람"
   ]
  },
  {
   "cell_type": "code",
   "execution_count": 8,
   "metadata": {},
   "outputs": [],
   "source": [
    "import csv\n",
    "from time import sleep\n",
    "import pandas as pd\n",
    "from datetime import datetime, date, timedelta\n",
    "from selenium import webdriver as wd\n",
    "from selenium.webdriver.common.keys import Keys\n",
    "from selenium.webdriver.common.by import By\n",
    "from selenium.webdriver.support.ui import WebDriverWait\n",
    "from selenium.webdriver.support import expected_conditions\n",
    "from selenium.common import exceptions\n",
    "import time"
   ]
  },
  {
   "cell_type": "markdown",
   "metadata": {},
   "source": [
    "## chromedriver의 위치 입력"
   ]
  },
  {
   "cell_type": "code",
   "execution_count": 4,
   "metadata": {},
   "outputs": [],
   "source": [
    "driver = wd.Chrome(\"C:\\\\Users\\\\cross\\\\chromedriver\")\n",
    "driver.implicitly_wait(5)"
   ]
  },
  {
   "cell_type": "markdown",
   "metadata": {},
   "source": [
    "## 수업명 입력"
   ]
  },
  {
   "cell_type": "code",
   "execution_count": 5,
   "metadata": {},
   "outputs": [
    {
     "name": "stdout",
     "output_type": "stream",
     "text": [
      "공백을 구분자로 관심있는 수업명을 알려주세요 : 이론통계학 수리통계학(2)\n"
     ]
    }
   ],
   "source": [
    "subjects = [x for x in input('공백을 구분자로 관심있는 수업명을 알려주세요 : ').split()]"
   ]
  },
  {
   "cell_type": "markdown",
   "metadata": {},
   "source": [
    "## 에브리타임 아이디, 비밀번호 입력"
   ]
  },
  {
   "cell_type": "code",
   "execution_count": 6,
   "metadata": {},
   "outputs": [
    {
     "name": "stdout",
     "output_type": "stream",
     "text": [
      "ID: crossrobot\n",
      "PW: nj!65546554\n"
     ]
    }
   ],
   "source": [
    "ID = input(\"ID: \")\n",
    "password = input(\"PW: \")"
   ]
  },
  {
   "cell_type": "markdown",
   "metadata": {},
   "source": [
    "## 크롤링 코드"
   ]
  },
  {
   "cell_type": "code",
   "execution_count": 9,
   "metadata": {},
   "outputs": [
    {
     "name": "stdout",
     "output_type": "stream",
     "text": [
      "조회 4 전선 STA4115-01-00 3 이론통계학(1) 강승호 월7,8/수8 동영상콘텐츠/실시간온라인 24 비대면, 100%온라인:동영상-실시간혼합강의, 절대평가\n",
      "조회 3 전필 STA3109-01-00 3 수리통계학(2) 임종호 월9,10,수10 실시간온라인 89 비대면, 100%온라인:실시간온라인강의, 절대평가\n"
     ]
    }
   ],
   "source": [
    "result = list()\n",
    "\n",
    "url = 'https://everytime.kr/login'\n",
    "driver.get(url)\n",
    "driver.maximize_window()\n",
    "driver.implicitly_wait(5)\n",
    "\n",
    "\n",
    "# 소스코드에서 컨트롤하고 싶은 부분을 찾아서 우클릭 -> 'copy selector'\n",
    "# 'find.element_by_css_selector'를 통해 copy 해온 것의 element를 찾는다.\n",
    "# element를 찾아 클릭, 텍스트 뽑기, 텍스트 입력 등 다양한 조작이 가능하다.\n",
    "\n",
    "\n",
    "elem = driver.find_element_by_css_selector(\"#container > form > p:nth-child(1) > input\")\n",
    "elem.click()\n",
    "elem.send_keys(ID)\n",
    "\n",
    "elem = driver.find_element_by_css_selector(\"#container > form > p:nth-child(2) > input\")\n",
    "elem.send_keys(password)\n",
    "time.sleep(0.1)\n",
    "elem.send_keys(Keys.ENTER)\n",
    "\n",
    "url = 'https://everytime.kr/'\n",
    "driver.get(url)\n",
    "time.sleep(0.1)\n",
    "\n",
    "#################################원하는 게시판의 copy selector####################################\n",
    "#####################################################################################################\n",
    "\n",
    "for search in subjects:\n",
    "    time.sleep(0.1)\n",
    "    #시간표 버튼\n",
    "    elem = driver.find_element_by_css_selector(\"#menu > li:nth-child(2) > a\")\n",
    "    elem.click()\n",
    "    time.sleep(0.1)\n",
    "\n",
    "    #강의 찾기 버튼\n",
    "    elem = driver.find_element_by_css_selector(\"#container > ul > li.button.search\")\n",
    "    elem.click()\n",
    "    time.sleep(2)\n",
    "\n",
    "#subjects > div.filter > a.item.active\n",
    "    #검색어 버튼\n",
    "\n",
    "    try: \n",
    "        elem = driver.find_element_by_css_selector(\"#subjects > div.filter > a:nth-child(5)\")\n",
    "        elem.click()\n",
    "        time.sleep(1)\n",
    "    except:\n",
    "        time.sleep(1)\n",
    "        close_intercept = driver.find_element_by_css_selector(\"#sheet > ul > li.none > a\")\n",
    "        close_intercept.click()\n",
    "        time.sleep(1)\n",
    "        elem = driver.find_element_by_css_selector(\"#subjects > div.filter > a:nth-child(5)\")\n",
    "        elem.click()\n",
    "        time.sleep(1)\n",
    "\n",
    "\n",
    "    #과목명 입력\n",
    "    elem = driver.find_element_by_css_selector(\"#subjectKeywordFilter > div > input\")\n",
    "    elem.click()\n",
    "    elem.send_keys(search)\n",
    "\n",
    "\n",
    "    #검색 버튼 클릭\n",
    "    elem = driver.find_element_by_css_selector(\"#subjectKeywordFilter > input\")\n",
    "    elem.click()\n",
    "    time.sleep(1)\n",
    "\n",
    "    j = 1\n",
    "    #담은인원\n",
    "    for j in range(1, 100):\n",
    "        try:\n",
    "            elem = driver.find_element_by_css_selector(\"#subjects > div.list > table > tbody> tr:nth-child(\"+ str(j) +\")\")\n",
    "            print(elem.text)\n",
    "            result.append(elem.text)\n",
    "        except:\n",
    "            break;\n"
   ]
  },
  {
   "cell_type": "markdown",
   "metadata": {},
   "source": [
    "## 최종 DataFrame"
   ]
  },
  {
   "cell_type": "code",
   "execution_count": 11,
   "metadata": {},
   "outputs": [
    {
     "data": {
      "text/html": [
       "<div>\n",
       "<style scoped>\n",
       "    .dataframe tbody tr th:only-of-type {\n",
       "        vertical-align: middle;\n",
       "    }\n",
       "\n",
       "    .dataframe tbody tr th {\n",
       "        vertical-align: top;\n",
       "    }\n",
       "\n",
       "    .dataframe thead th {\n",
       "        text-align: right;\n",
       "    }\n",
       "</style>\n",
       "<table border=\"1\" class=\"dataframe\">\n",
       "  <thead>\n",
       "    <tr style=\"text-align: right;\">\n",
       "      <th></th>\n",
       "      <th>계획서</th>\n",
       "      <th>학년</th>\n",
       "      <th>종별</th>\n",
       "      <th>학정번호</th>\n",
       "      <th>학점</th>\n",
       "      <th>교과목명</th>\n",
       "      <th>담당교수</th>\n",
       "      <th>강의시간</th>\n",
       "      <th>강의실</th>\n",
       "      <th>담은 인원</th>\n",
       "    </tr>\n",
       "  </thead>\n",
       "  <tbody>\n",
       "    <tr>\n",
       "      <th>0</th>\n",
       "      <td>조회</td>\n",
       "      <td>4</td>\n",
       "      <td>전선</td>\n",
       "      <td>STA4115-01-00</td>\n",
       "      <td>3</td>\n",
       "      <td>이론통계학(1)</td>\n",
       "      <td>강승호</td>\n",
       "      <td>월7,8/수8</td>\n",
       "      <td>동영상콘텐츠/실시간온라인</td>\n",
       "      <td>24</td>\n",
       "    </tr>\n",
       "    <tr>\n",
       "      <th>1</th>\n",
       "      <td>조회</td>\n",
       "      <td>3</td>\n",
       "      <td>전필</td>\n",
       "      <td>STA3109-01-00</td>\n",
       "      <td>3</td>\n",
       "      <td>수리통계학(2)</td>\n",
       "      <td>임종호</td>\n",
       "      <td>월9,10,수10</td>\n",
       "      <td>실시간온라인</td>\n",
       "      <td>89</td>\n",
       "    </tr>\n",
       "  </tbody>\n",
       "</table>\n",
       "</div>"
      ],
      "text/plain": [
       "  계획서 학년  종별           학정번호 학점      교과목명 담당교수       강의시간            강의실 담은 인원\n",
       "0  조회  4  전선  STA4115-01-00  3  이론통계학(1)  강승호    월7,8/수8  동영상콘텐츠/실시간온라인    24\n",
       "1  조회  3  전필  STA3109-01-00  3  수리통계학(2)  임종호  월9,10,수10         실시간온라인    89"
      ]
     },
     "execution_count": 11,
     "metadata": {},
     "output_type": "execute_result"
    }
   ],
   "source": [
    "splited_list = list()\n",
    "for i in result:\n",
    "    a = i.split()\n",
    "    a = a[:10]\n",
    "    splited_list.append(a)\n",
    "df = pd.DataFrame(splited_list)\n",
    "df.columns = ['계획서', '학년', '종별', '학정번호', '학점', '교과목명', '담당교수', '강의시간', '강의실', '담은 인원']\n",
    "df"
   ]
  },
  {
   "cell_type": "code",
   "execution_count": 13,
   "metadata": {},
   "outputs": [
    {
     "data": {
      "text/plain": [
       "['조회 4 전선 STA4115-01-00 3 이론통계학(1) 강승호 월7,8/수8 동영상콘텐츠/실시간온라인 24 비대면, 100%온라인:동영상-실시간혼합강의, 절대평가',\n",
       " '조회 3 전필 STA3109-01-00 3 수리통계학(2) 임종호 월9,10,수10 실시간온라인 89 비대면, 100%온라인:실시간온라인강의, 절대평가']"
      ]
     },
     "execution_count": 13,
     "metadata": {},
     "output_type": "execute_result"
    }
   ],
   "source": []
  },
  {
   "cell_type": "code",
   "execution_count": 14,
   "metadata": {},
   "outputs": [
    {
     "data": {
      "text/plain": [
       "['조회 4 전선 STA4115-01-00 3 이론통계학(1) 강승호 월7,8/수8 동영상콘텐츠/실시간온라인 24 비대면, 100%온라인:동영상-실시간혼합강의, 절대평가',\n",
       " '조회 3 전필 STA3109-01-00 3 수리통계학(2) 임종호 월9,10,수10 실시간온라인 89 비대면, 100%온라인:실시간온라인강의, 절대평가']"
      ]
     },
     "execution_count": 14,
     "metadata": {},
     "output_type": "execute_result"
    }
   ],
   "source": [
    "result"
   ]
  },
  {
   "cell_type": "code",
   "execution_count": null,
   "metadata": {},
   "outputs": [],
   "source": []
  }
 ],
 "metadata": {
  "kernelspec": {
   "display_name": "Python_crawling",
   "language": "python",
   "name": "crawling"
  }
 },
 "nbformat": 4,
 "nbformat_minor": 5
}
